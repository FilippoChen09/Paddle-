{
  "nbformat": 4,
  "nbformat_minor": 0,
  "metadata": {
    "colab": {
      "provenance": [],
      "collapsed_sections": [
        "1AnP2qkwHFO8",
        "gYlf0Vbk3V-r",
        "EzYG75pfqHwD",
        "hTHrU85zGTwM",
        "VzPboS_QHBXb",
        "anHkrUBBgZRd",
        "hHWTnDy9gdz8"
      ]
    },
    "kernelspec": {
      "name": "python3",
      "display_name": "Python 3"
    },
    "language_info": {
      "name": "python"
    },
    "accelerator": "TPU",
    "gpuClass": "standard"
  },
  "cells": [
    {
      "cell_type": "markdown",
      "source": [
        "# 数据读入与预处理"
      ],
      "metadata": {
        "id": "1AnP2qkwHFO8"
      }
    },
    {
      "cell_type": "code",
      "execution_count": null,
      "metadata": {
        "id": "Ct0yeK3WHKjU",
        "colab": {
          "base_uri": "https://localhost:8080/"
        },
        "outputId": "a01f655c-1908-4a43-f4ae-069e5ff806f0"
      },
      "outputs": [
        {
          "output_type": "stream",
          "name": "stdout",
          "text": [
            "Looking in indexes: https://pypi.org/simple, https://us-python.pkg.dev/colab-wheels/public/simple/\n",
            "Collecting d2l\n",
            "  Downloading d2l-0.17.6-py3-none-any.whl (112 kB)\n",
            "\u001b[2K     \u001b[90m━━━━━━━━━━━━━━━━━━━━━━━━━━━━━━━━━━━━━━━\u001b[0m \u001b[32m112.6/112.6 KB\u001b[0m \u001b[31m4.2 MB/s\u001b[0m eta \u001b[36m0:00:00\u001b[0m\n",
            "\u001b[?25hCollecting pandas==1.2.4\n",
            "  Downloading pandas-1.2.4-cp38-cp38-manylinux1_x86_64.whl (9.7 MB)\n",
            "\u001b[2K     \u001b[90m━━━━━━━━━━━━━━━━━━━━━━━━━━━━━━━━━━━━━━━━\u001b[0m \u001b[32m9.7/9.7 MB\u001b[0m \u001b[31m43.7 MB/s\u001b[0m eta \u001b[36m0:00:00\u001b[0m\n",
            "\u001b[?25hRequirement already satisfied: requests==2.25.1 in /usr/local/lib/python3.8/dist-packages (from d2l) (2.25.1)\n",
            "Collecting numpy==1.21.5\n",
            "  Downloading numpy-1.21.5-cp38-cp38-manylinux_2_12_x86_64.manylinux2010_x86_64.whl (15.7 MB)\n",
            "\u001b[2K     \u001b[90m━━━━━━━━━━━━━━━━━━━━━━━━━━━━━━━━━━━━━━━━\u001b[0m \u001b[32m15.7/15.7 MB\u001b[0m \u001b[31m44.0 MB/s\u001b[0m eta \u001b[36m0:00:00\u001b[0m\n",
            "\u001b[?25hCollecting jupyter==1.0.0\n",
            "  Downloading jupyter-1.0.0-py2.py3-none-any.whl (2.7 kB)\n",
            "Collecting matplotlib==3.5.1\n",
            "  Downloading matplotlib-3.5.1-cp38-cp38-manylinux_2_5_x86_64.manylinux1_x86_64.whl (11.3 MB)\n",
            "\u001b[2K     \u001b[90m━━━━━━━━━━━━━━━━━━━━━━━━━━━━━━━━━━━━━━━━\u001b[0m \u001b[32m11.3/11.3 MB\u001b[0m \u001b[31m61.9 MB/s\u001b[0m eta \u001b[36m0:00:00\u001b[0m\n",
            "\u001b[?25hRequirement already satisfied: notebook in /usr/local/lib/python3.8/dist-packages (from jupyter==1.0.0->d2l) (6.3.0)\n",
            "Requirement already satisfied: ipywidgets in /usr/local/lib/python3.8/dist-packages (from jupyter==1.0.0->d2l) (7.7.1)\n",
            "Requirement already satisfied: nbconvert in /usr/local/lib/python3.8/dist-packages (from jupyter==1.0.0->d2l) (6.5.4)\n",
            "Collecting qtconsole\n",
            "  Downloading qtconsole-5.4.0-py3-none-any.whl (121 kB)\n",
            "\u001b[2K     \u001b[90m━━━━━━━━━━━━━━━━━━━━━━━━━━━━━━━━━━━━━━\u001b[0m \u001b[32m121.0/121.0 KB\u001b[0m \u001b[31m13.8 MB/s\u001b[0m eta \u001b[36m0:00:00\u001b[0m\n",
            "\u001b[?25hRequirement already satisfied: ipykernel in /usr/local/lib/python3.8/dist-packages (from jupyter==1.0.0->d2l) (5.3.4)\n",
            "Requirement already satisfied: jupyter-console in /usr/local/lib/python3.8/dist-packages (from jupyter==1.0.0->d2l) (6.1.0)\n",
            "Requirement already satisfied: python-dateutil>=2.7 in /usr/local/lib/python3.8/dist-packages (from matplotlib==3.5.1->d2l) (2.8.2)\n",
            "Requirement already satisfied: packaging>=20.0 in /usr/local/lib/python3.8/dist-packages (from matplotlib==3.5.1->d2l) (23.0)\n",
            "Requirement already satisfied: fonttools>=4.22.0 in /usr/local/lib/python3.8/dist-packages (from matplotlib==3.5.1->d2l) (4.38.0)\n",
            "Requirement already satisfied: cycler>=0.10 in /usr/local/lib/python3.8/dist-packages (from matplotlib==3.5.1->d2l) (0.11.0)\n",
            "Requirement already satisfied: pillow>=6.2.0 in /usr/local/lib/python3.8/dist-packages (from matplotlib==3.5.1->d2l) (8.4.0)\n",
            "Requirement already satisfied: kiwisolver>=1.0.1 in /usr/local/lib/python3.8/dist-packages (from matplotlib==3.5.1->d2l) (1.4.4)\n",
            "Requirement already satisfied: pyparsing>=2.2.1 in /usr/local/lib/python3.8/dist-packages (from matplotlib==3.5.1->d2l) (3.0.9)\n",
            "Requirement already satisfied: pytz>=2017.3 in /usr/local/lib/python3.8/dist-packages (from pandas==1.2.4->d2l) (2022.7.1)\n",
            "Requirement already satisfied: idna<3,>=2.5 in /usr/local/lib/python3.8/dist-packages (from requests==2.25.1->d2l) (2.10)\n",
            "Requirement already satisfied: certifi>=2017.4.17 in /usr/local/lib/python3.8/dist-packages (from requests==2.25.1->d2l) (2022.12.7)\n",
            "Requirement already satisfied: chardet<5,>=3.0.2 in /usr/local/lib/python3.8/dist-packages (from requests==2.25.1->d2l) (4.0.0)\n",
            "Requirement already satisfied: urllib3<1.27,>=1.21.1 in /usr/local/lib/python3.8/dist-packages (from requests==2.25.1->d2l) (1.26.14)\n",
            "Requirement already satisfied: six>=1.5 in /usr/local/lib/python3.8/dist-packages (from python-dateutil>=2.7->matplotlib==3.5.1->d2l) (1.15.0)\n",
            "Requirement already satisfied: jupyter-client in /usr/local/lib/python3.8/dist-packages (from ipykernel->jupyter==1.0.0->d2l) (6.1.12)\n",
            "Requirement already satisfied: tornado>=4.2 in /usr/local/lib/python3.8/dist-packages (from ipykernel->jupyter==1.0.0->d2l) (6.2)\n",
            "Requirement already satisfied: traitlets>=4.1.0 in /usr/local/lib/python3.8/dist-packages (from ipykernel->jupyter==1.0.0->d2l) (5.7.1)\n",
            "Requirement already satisfied: ipython>=5.0.0 in /usr/local/lib/python3.8/dist-packages (from ipykernel->jupyter==1.0.0->d2l) (7.9.0)\n",
            "Requirement already satisfied: widgetsnbextension~=3.6.0 in /usr/local/lib/python3.8/dist-packages (from ipywidgets->jupyter==1.0.0->d2l) (3.6.2)\n",
            "Requirement already satisfied: ipython-genutils~=0.2.0 in /usr/local/lib/python3.8/dist-packages (from ipywidgets->jupyter==1.0.0->d2l) (0.2.0)\n",
            "Requirement already satisfied: jupyterlab-widgets>=1.0.0 in /usr/local/lib/python3.8/dist-packages (from ipywidgets->jupyter==1.0.0->d2l) (3.0.5)\n",
            "Requirement already satisfied: pygments in /usr/local/lib/python3.8/dist-packages (from jupyter-console->jupyter==1.0.0->d2l) (2.6.1)\n",
            "Requirement already satisfied: prompt-toolkit!=3.0.0,!=3.0.1,<3.1.0,>=2.0.0 in /usr/local/lib/python3.8/dist-packages (from jupyter-console->jupyter==1.0.0->d2l) (2.0.10)\n",
            "Requirement already satisfied: lxml in /usr/local/lib/python3.8/dist-packages (from nbconvert->jupyter==1.0.0->d2l) (4.9.2)\n",
            "Requirement already satisfied: defusedxml in /usr/local/lib/python3.8/dist-packages (from nbconvert->jupyter==1.0.0->d2l) (0.7.1)\n",
            "Requirement already satisfied: beautifulsoup4 in /usr/local/lib/python3.8/dist-packages (from nbconvert->jupyter==1.0.0->d2l) (4.6.3)\n",
            "Requirement already satisfied: jupyterlab-pygments in /usr/local/lib/python3.8/dist-packages (from nbconvert->jupyter==1.0.0->d2l) (0.2.2)\n",
            "Requirement already satisfied: nbclient>=0.5.0 in /usr/local/lib/python3.8/dist-packages (from nbconvert->jupyter==1.0.0->d2l) (0.7.2)\n",
            "Requirement already satisfied: jupyter-core>=4.7 in /usr/local/lib/python3.8/dist-packages (from nbconvert->jupyter==1.0.0->d2l) (5.2.0)\n",
            "Requirement already satisfied: nbformat>=5.1 in /usr/local/lib/python3.8/dist-packages (from nbconvert->jupyter==1.0.0->d2l) (5.7.3)\n",
            "Requirement already satisfied: mistune<2,>=0.8.1 in /usr/local/lib/python3.8/dist-packages (from nbconvert->jupyter==1.0.0->d2l) (0.8.4)\n",
            "Requirement already satisfied: pandocfilters>=1.4.1 in /usr/local/lib/python3.8/dist-packages (from nbconvert->jupyter==1.0.0->d2l) (1.5.0)\n",
            "Requirement already satisfied: tinycss2 in /usr/local/lib/python3.8/dist-packages (from nbconvert->jupyter==1.0.0->d2l) (1.2.1)\n",
            "Requirement already satisfied: MarkupSafe>=2.0 in /usr/local/lib/python3.8/dist-packages (from nbconvert->jupyter==1.0.0->d2l) (2.1.2)\n",
            "Requirement already satisfied: entrypoints>=0.2.2 in /usr/local/lib/python3.8/dist-packages (from nbconvert->jupyter==1.0.0->d2l) (0.4)\n",
            "Requirement already satisfied: bleach in /usr/local/lib/python3.8/dist-packages (from nbconvert->jupyter==1.0.0->d2l) (6.0.0)\n",
            "Requirement already satisfied: jinja2>=3.0 in /usr/local/lib/python3.8/dist-packages (from nbconvert->jupyter==1.0.0->d2l) (3.1.2)\n",
            "Requirement already satisfied: argon2-cffi in /usr/local/lib/python3.8/dist-packages (from notebook->jupyter==1.0.0->d2l) (21.3.0)\n",
            "Requirement already satisfied: Send2Trash>=1.5.0 in /usr/local/lib/python3.8/dist-packages (from notebook->jupyter==1.0.0->d2l) (1.8.0)\n",
            "Requirement already satisfied: terminado>=0.8.3 in /usr/local/lib/python3.8/dist-packages (from notebook->jupyter==1.0.0->d2l) (0.13.3)\n",
            "Requirement already satisfied: prometheus-client in /usr/local/lib/python3.8/dist-packages (from notebook->jupyter==1.0.0->d2l) (0.16.0)\n",
            "Requirement already satisfied: pyzmq>=17 in /usr/local/lib/python3.8/dist-packages (from notebook->jupyter==1.0.0->d2l) (23.2.1)\n",
            "Collecting qtpy>=2.0.1\n",
            "  Downloading QtPy-2.3.0-py3-none-any.whl (83 kB)\n",
            "\u001b[2K     \u001b[90m━━━━━━━━━━━━━━━━━━━━━━━━━━━━━━━━━━━━━━━━\u001b[0m \u001b[32m83.6/83.6 KB\u001b[0m \u001b[31m11.6 MB/s\u001b[0m eta \u001b[36m0:00:00\u001b[0m\n",
            "\u001b[?25hRequirement already satisfied: pickleshare in /usr/local/lib/python3.8/dist-packages (from ipython>=5.0.0->ipykernel->jupyter==1.0.0->d2l) (0.7.5)\n",
            "Requirement already satisfied: setuptools>=18.5 in /usr/local/lib/python3.8/dist-packages (from ipython>=5.0.0->ipykernel->jupyter==1.0.0->d2l) (57.4.0)\n",
            "Collecting jedi>=0.10\n",
            "  Downloading jedi-0.18.2-py2.py3-none-any.whl (1.6 MB)\n",
            "\u001b[2K     \u001b[90m━━━━━━━━━━━━━━━━━━━━━━━━━━━━━━━━━━━━━━━━\u001b[0m \u001b[32m1.6/1.6 MB\u001b[0m \u001b[31m75.8 MB/s\u001b[0m eta \u001b[36m0:00:00\u001b[0m\n",
            "\u001b[?25hRequirement already satisfied: decorator in /usr/local/lib/python3.8/dist-packages (from ipython>=5.0.0->ipykernel->jupyter==1.0.0->d2l) (4.4.2)\n",
            "Requirement already satisfied: backcall in /usr/local/lib/python3.8/dist-packages (from ipython>=5.0.0->ipykernel->jupyter==1.0.0->d2l) (0.2.0)\n",
            "Requirement already satisfied: pexpect in /usr/local/lib/python3.8/dist-packages (from ipython>=5.0.0->ipykernel->jupyter==1.0.0->d2l) (4.8.0)\n",
            "Requirement already satisfied: platformdirs>=2.5 in /usr/local/lib/python3.8/dist-packages (from jupyter-core>=4.7->nbconvert->jupyter==1.0.0->d2l) (3.0.0)\n",
            "Requirement already satisfied: jsonschema>=2.6 in /usr/local/lib/python3.8/dist-packages (from nbformat>=5.1->nbconvert->jupyter==1.0.0->d2l) (4.3.3)\n",
            "Requirement already satisfied: fastjsonschema in /usr/local/lib/python3.8/dist-packages (from nbformat>=5.1->nbconvert->jupyter==1.0.0->d2l) (2.16.3)\n",
            "Requirement already satisfied: wcwidth in /usr/local/lib/python3.8/dist-packages (from prompt-toolkit!=3.0.0,!=3.0.1,<3.1.0,>=2.0.0->jupyter-console->jupyter==1.0.0->d2l) (0.2.6)\n",
            "Requirement already satisfied: ptyprocess in /usr/local/lib/python3.8/dist-packages (from terminado>=0.8.3->notebook->jupyter==1.0.0->d2l) (0.7.0)\n",
            "Requirement already satisfied: argon2-cffi-bindings in /usr/local/lib/python3.8/dist-packages (from argon2-cffi->notebook->jupyter==1.0.0->d2l) (21.2.0)\n",
            "Requirement already satisfied: webencodings in /usr/local/lib/python3.8/dist-packages (from bleach->nbconvert->jupyter==1.0.0->d2l) (0.5.1)\n",
            "Requirement already satisfied: parso<0.9.0,>=0.8.0 in /usr/local/lib/python3.8/dist-packages (from jedi>=0.10->ipython>=5.0.0->ipykernel->jupyter==1.0.0->d2l) (0.8.3)\n",
            "Requirement already satisfied: importlib-resources>=1.4.0 in /usr/local/lib/python3.8/dist-packages (from jsonschema>=2.6->nbformat>=5.1->nbconvert->jupyter==1.0.0->d2l) (5.12.0)\n",
            "Requirement already satisfied: attrs>=17.4.0 in /usr/local/lib/python3.8/dist-packages (from jsonschema>=2.6->nbformat>=5.1->nbconvert->jupyter==1.0.0->d2l) (22.2.0)\n",
            "Requirement already satisfied: pyrsistent!=0.17.0,!=0.17.1,!=0.17.2,>=0.14.0 in /usr/local/lib/python3.8/dist-packages (from jsonschema>=2.6->nbformat>=5.1->nbconvert->jupyter==1.0.0->d2l) (0.19.3)\n",
            "Requirement already satisfied: cffi>=1.0.1 in /usr/local/lib/python3.8/dist-packages (from argon2-cffi-bindings->argon2-cffi->notebook->jupyter==1.0.0->d2l) (1.15.1)\n",
            "Requirement already satisfied: pycparser in /usr/local/lib/python3.8/dist-packages (from cffi>=1.0.1->argon2-cffi-bindings->argon2-cffi->notebook->jupyter==1.0.0->d2l) (2.21)\n",
            "Requirement already satisfied: zipp>=3.1.0 in /usr/local/lib/python3.8/dist-packages (from importlib-resources>=1.4.0->jsonschema>=2.6->nbformat>=5.1->nbconvert->jupyter==1.0.0->d2l) (3.15.0)\n",
            "Installing collected packages: qtpy, numpy, jedi, pandas, matplotlib, qtconsole, jupyter, d2l\n",
            "  Attempting uninstall: numpy\n",
            "    Found existing installation: numpy 1.24.2\n",
            "    Uninstalling numpy-1.24.2:\n",
            "      Successfully uninstalled numpy-1.24.2\n",
            "  Attempting uninstall: pandas\n",
            "    Found existing installation: pandas 1.3.5\n",
            "    Uninstalling pandas-1.3.5:\n",
            "      Successfully uninstalled pandas-1.3.5\n",
            "  Attempting uninstall: matplotlib\n",
            "    Found existing installation: matplotlib 3.5.3\n",
            "    Uninstalling matplotlib-3.5.3:\n",
            "      Successfully uninstalled matplotlib-3.5.3\n",
            "\u001b[31mERROR: pip's dependency resolver does not currently take into account all the packages that are installed. This behaviour is the source of the following dependency conflicts.\n",
            "xarray 2022.12.0 requires pandas>=1.3, but you have pandas 1.2.4 which is incompatible.\n",
            "plotnine 0.10.1 requires pandas>=1.3.5, but you have pandas 1.2.4 which is incompatible.\n",
            "mizani 0.8.1 requires pandas>=1.3.5, but you have pandas 1.2.4 which is incompatible.\u001b[0m\u001b[31m\n",
            "\u001b[0mSuccessfully installed d2l-0.17.6 jedi-0.18.2 jupyter-1.0.0 matplotlib-3.5.1 numpy-1.21.5 pandas-1.2.4 qtconsole-5.4.0 qtpy-2.3.0\n",
            "ERROR: unknown command \"instal\" - maybe you meant \"install\"\n",
            "Looking in indexes: https://pypi.org/simple, https://us-python.pkg.dev/colab-wheels/public/simple/\n",
            "Collecting matplotlib_inline\n",
            "  Downloading matplotlib_inline-0.1.6-py3-none-any.whl (9.4 kB)\n",
            "Requirement already satisfied: traitlets in /usr/local/lib/python3.8/dist-packages (from matplotlib_inline) (5.7.1)\n",
            "Installing collected packages: matplotlib_inline\n",
            "Successfully installed matplotlib_inline-0.1.6\n"
          ]
        },
        {
          "output_type": "stream",
          "name": "stderr",
          "text": [
            "/usr/local/lib/python3.8/dist-packages/torch/cuda/__init__.py:497: UserWarning: Can't initialize NVML\n",
            "  warnings.warn(\"Can't initialize NVML\")\n",
            "Building prefix dict from the default dictionary ...\n",
            "DEBUG:jieba:Building prefix dict from the default dictionary ...\n",
            "Dumping model to file cache /tmp/jieba.cache\n",
            "DEBUG:jieba:Dumping model to file cache /tmp/jieba.cache\n",
            "Loading model cost 1.110 seconds.\n",
            "DEBUG:jieba:Loading model cost 1.110 seconds.\n",
            "Prefix dict has been built successfully.\n",
            "DEBUG:jieba:Prefix dict has been built successfully.\n"
          ]
        }
      ],
      "source": [
        "!pip install d2l\n",
        "!pip instal matplotlib==3.0.0\n",
        "!pip install matplotlib_inline\n",
        "from d2l import torch as d2l\n",
        "import jieba\n",
        "import os\n",
        "import tarfile\n",
        "\n",
        "\n",
        "label_list = ['财经', '彩票', '房产', '股票', '家居', '教育', '科技',\n",
        "        '社会', '时尚', '时政', '体育', '星座', '游戏', '娱乐']\n",
        "label_map = {item:index for index, item in enumerate(label_list)}\n",
        "\n",
        "\n",
        "def stopwords(filepath=None):\n",
        "    '''获取停用词列表'''\n",
        "    path='/content/THUCNews/baidu_stopwords.txt' if filepath is None else filepath\n",
        "    stopwords = [line.strip() for line in open(path, 'r',\n",
        "                            encoding='utf-8').readlines()]\n",
        "    return stopwords\n",
        "\n",
        "\n",
        "def tokenizer(text):\n",
        "    '''jieba中文分词并过滤停用词'''\n",
        "    text = jieba.cut(text)\n",
        "    return [word for word in text if word.strip() not in stop_words]\n",
        "\n",
        "\n",
        "def read_data(root, is_test):\n",
        "    news_titles = []\n",
        "    labels = []\n",
        "    f = open(root, 'r', encoding='utf-8-sig')\n",
        "    f = f.readlines()\n",
        "    for line in f:\n",
        "        if is_test:\n",
        "            text = line.strip('\\n')\n",
        "            text = tokenizer(text.strip())\n",
        "            label = None\n",
        "            news_titles.append(text)\n",
        "            labels.append(label)\n",
        "        else:\n",
        "            text, label = line.strip('\\n').split('\\t')\n",
        "            text = tokenizer(text.strip())\n",
        "            label = label_map[label]\n",
        "            news_titles.append(text)\n",
        "            labels.append(label)\n",
        "    return news_titles, labels\n",
        "\n",
        "\n",
        "# 提前全局调用\n",
        "stop_words = stopwords()\n",
        "train_data = read_data('/content/THUCNews/train.txt', is_test=False)"
      ]
    },
    {
      "cell_type": "code",
      "source": [
        "from torch.utils.data import Dataset, DataLoader\n",
        "import torch\n",
        "import torch.nn as nn\n",
        "\n",
        "\n",
        "def get_vocab():\n",
        "    '''获取训练集所有词汇'''\n",
        "    train_tokens = train_data[0]\n",
        "    train_tokens = [word for word in train_tokens]\n",
        "    vocab = d2l.Vocab(train_tokens, min_freq=3, reserved_tokens=['<pad>'])\n",
        "    return vocab\n",
        "\n",
        "\n",
        "class THUCNews(Dataset):\n",
        "    def __init__(self, dataset, num_steps, test, vocab=None):\n",
        "        self.test = test\n",
        "        self.vocab = get_vocab() if vocab is None else vocab\n",
        "        self.num_steps = num_steps\n",
        "\n",
        "        if test == False:\n",
        "            text, label = dataset\n",
        "            self.label = torch.LongTensor(label)\n",
        "        elif test == True:\n",
        "            text, _ = dataset\n",
        "        \n",
        "        self.text = self._pad(text)\n",
        "\n",
        "    def __getitem__(self, idx):\n",
        "        if not self.test:\n",
        "            return self.text[idx], self.label[idx]\n",
        "        elif self.test:\n",
        "            return self.text[idx]\n",
        "\n",
        "    def _pad(self, lines):\n",
        "        return torch.Tensor([d2l.truncate_pad(\n",
        "                   self.vocab[line], self.num_steps, self.vocab['<pad>'])\n",
        "                   for line in lines])\n",
        "\n",
        "    def __len__(self):\n",
        "        return len(self.text)"
      ],
      "metadata": {
        "id": "7ZiL1H42ew2X"
      },
      "execution_count": null,
      "outputs": []
    },
    {
      "cell_type": "markdown",
      "source": [
        "#生成数据迭代器\n",
        "图：加载分词和过滤停用词后的标题长度直方图\n",
        "\n",
        "\n",
        "> 预测时不运行\n",
        "\n"
      ],
      "metadata": {
        "id": "gYlf0Vbk3V-r"
      }
    },
    {
      "cell_type": "markdown",
      "source": [
        "![下载.png](data:image/png;base64,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)"
      ],
      "metadata": {
        "id": "_hYXCoYp-3v4"
      }
    },
    {
      "cell_type": "code",
      "source": [
        "vocab = get_vocab()\n",
        "batch_size = 128\n",
        "num_steps = 13\n",
        "eval_root = '/content/THUCNews/dev.txt'\n",
        "\n",
        "train_set = THUCNews(dataset=train_data, num_steps=num_steps, test=False)\n",
        "eval_set = THUCNews(dataset=read_data(eval_root, is_test=False),\n",
        "            num_steps=num_steps, test=False)\n",
        "\n",
        "train_iter = DataLoader(train_set, batch_size=batch_size,\n",
        "              shuffle=True, num_workers=4)\n",
        "eval_iter = DataLoader(train_set, batch_size=batch_size,\n",
        "              shuffle=False, num_workers=4)"
      ],
      "metadata": {
        "id": "kG9YhyJcW1TU",
        "colab": {
          "base_uri": "https://localhost:8080/"
        },
        "outputId": "030b93e7-a2f4-42a2-b487-129e21c446af"
      },
      "execution_count": null,
      "outputs": [
        {
          "output_type": "stream",
          "name": "stderr",
          "text": [
            "/usr/local/lib/python3.8/dist-packages/torch/utils/data/dataloader.py:554: UserWarning: This DataLoader will create 4 worker processes in total. Our suggested max number of worker in current system is 2, which is smaller than what this DataLoader is going to create. Please be aware that excessive worker creation might get DataLoader running slow or even freeze, lower the worker number to avoid potential slowness/freeze if necessary.\n",
            "  warnings.warn(_create_warning_msg(\n"
          ]
        }
      ]
    },
    {
      "cell_type": "markdown",
      "source": [
        "#模型"
      ],
      "metadata": {
        "id": "EzYG75pfqHwD"
      }
    },
    {
      "cell_type": "code",
      "source": [
        "class TextCNN(nn.Module):\n",
        "    def __init__(self, vocab_size, embed_size, kernel_size, \n",
        "                 num_channel, num_class, **kwargs):\n",
        "        super(TextCNN, self).__init__(**kwargs)\n",
        "\n",
        "        # 这个嵌入层不需要训练\n",
        "        self.constant_embedding = nn.Embedding(vocab_size, embed_size)\n",
        "        self.dropout = nn.Dropout(0.15)\n",
        "        self.liner = nn.Linear(num_channel, num_class)\n",
        "\n",
        "        # 最大时间汇聚层没有参数，可以共享此实例\n",
        "        self.pool = nn.AdaptiveMaxPool1d(1)\n",
        "        self.relu = nn.ReLU()\n",
        "        # 创建多个一维卷积层\n",
        "        self.conv = nn.Conv1d(embed_size, num_channel,\n",
        "                     kernel_size, padding=1)\n",
        "\n",
        "    def forward(self, x):\n",
        "        # 每个嵌入层的输出形状都是（批量大小，词元数量，词元向量维度）\n",
        "        x = x.long()\n",
        "        x = self.constant_embedding(x)\n",
        "        # 根据一维卷积层的输入格式，重新排列张量，以便通道作为第2维\n",
        "        x = x.permute(0, 2, 1)\n",
        "        # 每个一维卷积层在最大时间汇聚层合并后，获得的张量形状是（批量大小，通道数，1）\n",
        "        # 删除最后一个维度并沿通道维度连结\n",
        "        x = torch.squeeze(self.relu(self.pool(self.conv(x))), dim=-1)\n",
        "        x = self.liner(self.dropout(x))\n",
        "\n",
        "        return x"
      ],
      "metadata": {
        "id": "3FdnqZAdpvP7"
      },
      "execution_count": null,
      "outputs": []
    },
    {
      "cell_type": "markdown",
      "source": [
        "#模型初始化\n",
        "\n",
        "\n",
        "> 预测时不运行\n",
        "\n"
      ],
      "metadata": {
        "id": "hTHrU85zGTwM"
      }
    },
    {
      "cell_type": "code",
      "source": [
        "embed_size, kernel_size, nums_channel, num_class = 100, 3, 100, len(label_list)\n",
        "devices = d2l.try_all_gpus()\n",
        "model = TextCNN(len(vocab), embed_size, kernel_size, nums_channel, num_class)\n",
        "\n",
        "\n",
        "# 线性层权重初始化\n",
        "def init_weights(m):\n",
        "    if type(m) in (nn.Linear, nn.Conv1d):\n",
        "        nn.init.xavier_uniform_(m.weight)\n",
        "\n",
        "model.apply(init_weights);\n",
        "\n",
        "\n",
        "# 输入语言为中文时屏蔽此段代码\n",
        "'''\n",
        "# 加载预训练词向量\n",
        "glove_embedding = d2l.TokenEmbedding('glove.6b.100d')\n",
        "vectors = glove_embedding[vocab.idx_to_token]\n",
        "model.constant_embedding.weight.data.copy_(vectors)\n",
        "\n",
        "\n",
        "# 不更新constant_embedding层的权重梯度\n",
        "model.constant_embedding.weight.requires_grad = False\n",
        "'''"
      ],
      "metadata": {
        "id": "tLOtRZbr5XVz",
        "colab": {
          "base_uri": "https://localhost:8080/",
          "height": 71
        },
        "outputId": "d7793f83-7861-4c1b-b143-fdd23012bf32"
      },
      "execution_count": null,
      "outputs": [
        {
          "output_type": "execute_result",
          "data": {
            "text/plain": [
              "\"\\n# 加载预训练词向量\\nglove_embedding = d2l.TokenEmbedding('glove.6b.100d')\\nvectors = glove_embedding[vocab.idx_to_token]\\nmodel.constant_embedding.weight.data.copy_(vectors)\\n\\n\\n# 不更新constant_embedding层的权重梯度\\nmodel.constant_embedding.weight.requires_grad = False\\n\""
            ],
            "application/vnd.google.colaboratory.intrinsic+json": {
              "type": "string"
            }
          },
          "metadata": {},
          "execution_count": 5
        }
      ]
    },
    {
      "cell_type": "markdown",
      "source": [
        "#训练、评估并保存模型\n",
        "\n",
        "> 预测时不运行\n",
        "\n",
        "\n",
        "\n"
      ],
      "metadata": {
        "id": "VzPboS_QHBXb"
      }
    },
    {
      "cell_type": "code",
      "source": [
        "lr, num_epochs = 0.001, 5\n",
        "trainer = torch.optim.Adam(model.parameters(), lr=lr)\n",
        "loss = nn.CrossEntropyLoss(reduction=\"none\")\n",
        "d2l.train_ch13(model, train_iter, eval_iter, loss, trainer, num_epochs, devices)\n",
        "\n",
        "\n",
        "# 保存模型\n",
        "torch.save(model.state_dict(), '/content/THUCNews/model_weights.txt')"
      ],
      "metadata": {
        "colab": {
          "base_uri": "https://localhost:8080/",
          "height": 303
        },
        "id": "CxXcyzDNHBzD",
        "outputId": "32fe680f-5d56-46bd-e4ca-9dc54acf0c87"
      },
      "execution_count": null,
      "outputs": [
        {
          "output_type": "stream",
          "name": "stdout",
          "text": [
            "loss 0.185, train acc 0.943, test acc 0.961\n",
            "606.9 examples/sec on [device(type='cpu')]\n"
          ]
        },
        {
          "output_type": "display_data",
          "data": {
            "text/plain": [
              "<Figure size 252x180 with 1 Axes>"
            ],
            "image/svg+xml": "<?xml version=\"1.0\" encoding=\"utf-8\" standalone=\"no\"?>\n<!DOCTYPE svg PUBLIC \"-//W3C//DTD SVG 1.1//EN\"\n  \"http://www.w3.org/Graphics/SVG/1.1/DTD/svg11.dtd\">\n<svg xmlns:xlink=\"http://www.w3.org/1999/xlink\" width=\"235.784375pt\" height=\"184.455469pt\" viewBox=\"0 0 235.784375 184.455469\" xmlns=\"http://www.w3.org/2000/svg\" version=\"1.1\">\n <metadata>\n  <rdf:RDF xmlns:dc=\"http://purl.org/dc/elements/1.1/\" xmlns:cc=\"http://creativecommons.org/ns#\" xmlns:rdf=\"http://www.w3.org/1999/02/22-rdf-syntax-ns#\">\n   <cc:Work>\n    <dc:type rdf:resource=\"http://purl.org/dc/dcmitype/StillImage\"/>\n    <dc:date>2023-03-03T20:08:16.333157</dc:date>\n    <dc:format>image/svg+xml</dc:format>\n    <dc:creator>\n     <cc:Agent>\n      <dc:title>Matplotlib v3.5.3, https://matplotlib.org/</dc:title>\n     </cc:Agent>\n    </dc:creator>\n   </cc:Work>\n  </rdf:RDF>\n </metadata>\n <defs>\n  <style type=\"text/css\">*{stroke-linejoin: round; stroke-linecap: butt}</style>\n </defs>\n <g id=\"figure_1\">\n  <g id=\"patch_1\">\n   <path d=\"M 0 184.455469 \nL 235.784375 184.455469 \nL 235.784375 -0 \nL 0 -0 \nL 0 184.455469 \nz\n\" style=\"fill: none\"/>\n  </g>\n  <g id=\"axes_1\">\n   <g id=\"patch_2\">\n    <path d=\"M 30.103125 146.899219 \nL 225.403125 146.899219 \nL 225.403125 10.999219 \nL 30.103125 10.999219 \nz\n\" style=\"fill: #ffffff\"/>\n   </g>\n   <g id=\"matplotlib.axis_1\">\n    <g id=\"xtick_1\">\n     <g id=\"line2d_1\">\n      <path d=\"M 30.103125 146.899219 \nL 30.103125 10.999219 \n\" clip-path=\"url(#pf0542afa5f)\" style=\"fill: none; stroke: #b0b0b0; stroke-width: 0.8; stroke-linecap: square\"/>\n     </g>\n     <g id=\"line2d_2\">\n      <defs>\n       <path id=\"m794c062332\" d=\"M 0 0 \nL 0 3.5 \n\" style=\"stroke: #000000; stroke-width: 0.8\"/>\n      </defs>\n      <g>\n       <use xlink:href=\"#m794c062332\" x=\"30.103125\" y=\"146.899219\" style=\"stroke: #000000; stroke-width: 0.8\"/>\n      </g>\n     </g>\n     <g id=\"text_1\">\n      <!-- 1 -->\n      <g transform=\"translate(26.921875 161.497656)scale(0.1 -0.1)\">\n       <defs>\n        <path id=\"DejaVuSans-31\" d=\"M 794 531 \nL 1825 531 \nL 1825 4091 \nL 703 3866 \nL 703 4441 \nL 1819 4666 \nL 2450 4666 \nL 2450 531 \nL 3481 531 \nL 3481 0 \nL 794 0 \nL 794 531 \nz\n\" transform=\"scale(0.015625)\"/>\n       </defs>\n       <use xlink:href=\"#DejaVuSans-31\"/>\n      </g>\n     </g>\n    </g>\n    <g id=\"xtick_2\">\n     <g id=\"line2d_3\">\n      <path d=\"M 78.928125 146.899219 \nL 78.928125 10.999219 \n\" clip-path=\"url(#pf0542afa5f)\" style=\"fill: none; stroke: #b0b0b0; stroke-width: 0.8; stroke-linecap: square\"/>\n     </g>\n     <g id=\"line2d_4\">\n      <g>\n       <use xlink:href=\"#m794c062332\" x=\"78.928125\" y=\"146.899219\" style=\"stroke: #000000; stroke-width: 0.8\"/>\n      </g>\n     </g>\n     <g id=\"text_2\">\n      <!-- 2 -->\n      <g transform=\"translate(75.746875 161.497656)scale(0.1 -0.1)\">\n       <defs>\n        <path id=\"DejaVuSans-32\" d=\"M 1228 531 \nL 3431 531 \nL 3431 0 \nL 469 0 \nL 469 531 \nQ 828 903 1448 1529 \nQ 2069 2156 2228 2338 \nQ 2531 2678 2651 2914 \nQ 2772 3150 2772 3378 \nQ 2772 3750 2511 3984 \nQ 2250 4219 1831 4219 \nQ 1534 4219 1204 4116 \nQ 875 4013 500 3803 \nL 500 4441 \nQ 881 4594 1212 4672 \nQ 1544 4750 1819 4750 \nQ 2544 4750 2975 4387 \nQ 3406 4025 3406 3419 \nQ 3406 3131 3298 2873 \nQ 3191 2616 2906 2266 \nQ 2828 2175 2409 1742 \nQ 1991 1309 1228 531 \nz\n\" transform=\"scale(0.015625)\"/>\n       </defs>\n       <use xlink:href=\"#DejaVuSans-32\"/>\n      </g>\n     </g>\n    </g>\n    <g id=\"xtick_3\">\n     <g id=\"line2d_5\">\n      <path d=\"M 127.753125 146.899219 \nL 127.753125 10.999219 \n\" clip-path=\"url(#pf0542afa5f)\" style=\"fill: none; stroke: #b0b0b0; stroke-width: 0.8; stroke-linecap: square\"/>\n     </g>\n     <g id=\"line2d_6\">\n      <g>\n       <use xlink:href=\"#m794c062332\" x=\"127.753125\" y=\"146.899219\" style=\"stroke: #000000; stroke-width: 0.8\"/>\n      </g>\n     </g>\n     <g id=\"text_3\">\n      <!-- 3 -->\n      <g transform=\"translate(124.571875 161.497656)scale(0.1 -0.1)\">\n       <defs>\n        <path id=\"DejaVuSans-33\" d=\"M 2597 2516 \nQ 3050 2419 3304 2112 \nQ 3559 1806 3559 1356 \nQ 3559 666 3084 287 \nQ 2609 -91 1734 -91 \nQ 1441 -91 1130 -33 \nQ 819 25 488 141 \nL 488 750 \nQ 750 597 1062 519 \nQ 1375 441 1716 441 \nQ 2309 441 2620 675 \nQ 2931 909 2931 1356 \nQ 2931 1769 2642 2001 \nQ 2353 2234 1838 2234 \nL 1294 2234 \nL 1294 2753 \nL 1863 2753 \nQ 2328 2753 2575 2939 \nQ 2822 3125 2822 3475 \nQ 2822 3834 2567 4026 \nQ 2313 4219 1838 4219 \nQ 1578 4219 1281 4162 \nQ 984 4106 628 3988 \nL 628 4550 \nQ 988 4650 1302 4700 \nQ 1616 4750 1894 4750 \nQ 2613 4750 3031 4423 \nQ 3450 4097 3450 3541 \nQ 3450 3153 3228 2886 \nQ 3006 2619 2597 2516 \nz\n\" transform=\"scale(0.015625)\"/>\n       </defs>\n       <use xlink:href=\"#DejaVuSans-33\"/>\n      </g>\n     </g>\n    </g>\n    <g id=\"xtick_4\">\n     <g id=\"line2d_7\">\n      <path d=\"M 176.578125 146.899219 \nL 176.578125 10.999219 \n\" clip-path=\"url(#pf0542afa5f)\" style=\"fill: none; stroke: #b0b0b0; stroke-width: 0.8; stroke-linecap: square\"/>\n     </g>\n     <g id=\"line2d_8\">\n      <g>\n       <use xlink:href=\"#m794c062332\" x=\"176.578125\" y=\"146.899219\" style=\"stroke: #000000; stroke-width: 0.8\"/>\n      </g>\n     </g>\n     <g id=\"text_4\">\n      <!-- 4 -->\n      <g transform=\"translate(173.396875 161.497656)scale(0.1 -0.1)\">\n       <defs>\n        <path id=\"DejaVuSans-34\" d=\"M 2419 4116 \nL 825 1625 \nL 2419 1625 \nL 2419 4116 \nz\nM 2253 4666 \nL 3047 4666 \nL 3047 1625 \nL 3713 1625 \nL 3713 1100 \nL 3047 1100 \nL 3047 0 \nL 2419 0 \nL 2419 1100 \nL 313 1100 \nL 313 1709 \nL 2253 4666 \nz\n\" transform=\"scale(0.015625)\"/>\n       </defs>\n       <use xlink:href=\"#DejaVuSans-34\"/>\n      </g>\n     </g>\n    </g>\n    <g id=\"xtick_5\">\n     <g id=\"line2d_9\">\n      <path d=\"M 225.403125 146.899219 \nL 225.403125 10.999219 \n\" clip-path=\"url(#pf0542afa5f)\" style=\"fill: none; stroke: #b0b0b0; stroke-width: 0.8; stroke-linecap: square\"/>\n     </g>\n     <g id=\"line2d_10\">\n      <g>\n       <use xlink:href=\"#m794c062332\" x=\"225.403125\" y=\"146.899219\" style=\"stroke: #000000; stroke-width: 0.8\"/>\n      </g>\n     </g>\n     <g id=\"text_5\">\n      <!-- 5 -->\n      <g transform=\"translate(222.221875 161.497656)scale(0.1 -0.1)\">\n       <defs>\n        <path id=\"DejaVuSans-35\" d=\"M 691 4666 \nL 3169 4666 \nL 3169 4134 \nL 1269 4134 \nL 1269 2991 \nQ 1406 3038 1543 3061 \nQ 1681 3084 1819 3084 \nQ 2600 3084 3056 2656 \nQ 3513 2228 3513 1497 \nQ 3513 744 3044 326 \nQ 2575 -91 1722 -91 \nQ 1428 -91 1123 -41 \nQ 819 9 494 109 \nL 494 744 \nQ 775 591 1075 516 \nQ 1375 441 1709 441 \nQ 2250 441 2565 725 \nQ 2881 1009 2881 1497 \nQ 2881 1984 2565 2268 \nQ 2250 2553 1709 2553 \nQ 1456 2553 1204 2497 \nQ 953 2441 691 2322 \nL 691 4666 \nz\n\" transform=\"scale(0.015625)\"/>\n       </defs>\n       <use xlink:href=\"#DejaVuSans-35\"/>\n      </g>\n     </g>\n    </g>\n    <g id=\"text_6\">\n     <!-- epoch -->\n     <g transform=\"translate(112.525 175.175781)scale(0.1 -0.1)\">\n      <defs>\n       <path id=\"DejaVuSans-65\" d=\"M 3597 1894 \nL 3597 1613 \nL 953 1613 \nQ 991 1019 1311 708 \nQ 1631 397 2203 397 \nQ 2534 397 2845 478 \nQ 3156 559 3463 722 \nL 3463 178 \nQ 3153 47 2828 -22 \nQ 2503 -91 2169 -91 \nQ 1331 -91 842 396 \nQ 353 884 353 1716 \nQ 353 2575 817 3079 \nQ 1281 3584 2069 3584 \nQ 2775 3584 3186 3129 \nQ 3597 2675 3597 1894 \nz\nM 3022 2063 \nQ 3016 2534 2758 2815 \nQ 2500 3097 2075 3097 \nQ 1594 3097 1305 2825 \nQ 1016 2553 972 2059 \nL 3022 2063 \nz\n\" transform=\"scale(0.015625)\"/>\n       <path id=\"DejaVuSans-70\" d=\"M 1159 525 \nL 1159 -1331 \nL 581 -1331 \nL 581 3500 \nL 1159 3500 \nL 1159 2969 \nQ 1341 3281 1617 3432 \nQ 1894 3584 2278 3584 \nQ 2916 3584 3314 3078 \nQ 3713 2572 3713 1747 \nQ 3713 922 3314 415 \nQ 2916 -91 2278 -91 \nQ 1894 -91 1617 61 \nQ 1341 213 1159 525 \nz\nM 3116 1747 \nQ 3116 2381 2855 2742 \nQ 2594 3103 2138 3103 \nQ 1681 3103 1420 2742 \nQ 1159 2381 1159 1747 \nQ 1159 1113 1420 752 \nQ 1681 391 2138 391 \nQ 2594 391 2855 752 \nQ 3116 1113 3116 1747 \nz\n\" transform=\"scale(0.015625)\"/>\n       <path id=\"DejaVuSans-6f\" d=\"M 1959 3097 \nQ 1497 3097 1228 2736 \nQ 959 2375 959 1747 \nQ 959 1119 1226 758 \nQ 1494 397 1959 397 \nQ 2419 397 2687 759 \nQ 2956 1122 2956 1747 \nQ 2956 2369 2687 2733 \nQ 2419 3097 1959 3097 \nz\nM 1959 3584 \nQ 2709 3584 3137 3096 \nQ 3566 2609 3566 1747 \nQ 3566 888 3137 398 \nQ 2709 -91 1959 -91 \nQ 1206 -91 779 398 \nQ 353 888 353 1747 \nQ 353 2609 779 3096 \nQ 1206 3584 1959 3584 \nz\n\" transform=\"scale(0.015625)\"/>\n       <path id=\"DejaVuSans-63\" d=\"M 3122 3366 \nL 3122 2828 \nQ 2878 2963 2633 3030 \nQ 2388 3097 2138 3097 \nQ 1578 3097 1268 2742 \nQ 959 2388 959 1747 \nQ 959 1106 1268 751 \nQ 1578 397 2138 397 \nQ 2388 397 2633 464 \nQ 2878 531 3122 666 \nL 3122 134 \nQ 2881 22 2623 -34 \nQ 2366 -91 2075 -91 \nQ 1284 -91 818 406 \nQ 353 903 353 1747 \nQ 353 2603 823 3093 \nQ 1294 3584 2113 3584 \nQ 2378 3584 2631 3529 \nQ 2884 3475 3122 3366 \nz\n\" transform=\"scale(0.015625)\"/>\n       <path id=\"DejaVuSans-68\" d=\"M 3513 2113 \nL 3513 0 \nL 2938 0 \nL 2938 2094 \nQ 2938 2591 2744 2837 \nQ 2550 3084 2163 3084 \nQ 1697 3084 1428 2787 \nQ 1159 2491 1159 1978 \nL 1159 0 \nL 581 0 \nL 581 4863 \nL 1159 4863 \nL 1159 2956 \nQ 1366 3272 1645 3428 \nQ 1925 3584 2291 3584 \nQ 2894 3584 3203 3211 \nQ 3513 2838 3513 2113 \nz\n\" transform=\"scale(0.015625)\"/>\n      </defs>\n      <use xlink:href=\"#DejaVuSans-65\"/>\n      <use xlink:href=\"#DejaVuSans-70\" x=\"61.523438\"/>\n      <use xlink:href=\"#DejaVuSans-6f\" x=\"125\"/>\n      <use xlink:href=\"#DejaVuSans-63\" x=\"186.181641\"/>\n      <use xlink:href=\"#DejaVuSans-68\" x=\"241.162109\"/>\n     </g>\n    </g>\n   </g>\n   <g id=\"matplotlib.axis_2\">\n    <g id=\"ytick_1\">\n     <g id=\"line2d_11\">\n      <path d=\"M 30.103125 146.899219 \nL 225.403125 146.899219 \n\" clip-path=\"url(#pf0542afa5f)\" style=\"fill: none; stroke: #b0b0b0; stroke-width: 0.8; stroke-linecap: square\"/>\n     </g>\n     <g id=\"line2d_12\">\n      <defs>\n       <path id=\"ma53946c5c5\" d=\"M 0 0 \nL -3.5 0 \n\" style=\"stroke: #000000; stroke-width: 0.8\"/>\n      </defs>\n      <g>\n       <use xlink:href=\"#ma53946c5c5\" x=\"30.103125\" y=\"146.899219\" style=\"stroke: #000000; stroke-width: 0.8\"/>\n      </g>\n     </g>\n     <g id=\"text_7\">\n      <!-- 0.0 -->\n      <g transform=\"translate(7.2 150.698437)scale(0.1 -0.1)\">\n       <defs>\n        <path id=\"DejaVuSans-30\" d=\"M 2034 4250 \nQ 1547 4250 1301 3770 \nQ 1056 3291 1056 2328 \nQ 1056 1369 1301 889 \nQ 1547 409 2034 409 \nQ 2525 409 2770 889 \nQ 3016 1369 3016 2328 \nQ 3016 3291 2770 3770 \nQ 2525 4250 2034 4250 \nz\nM 2034 4750 \nQ 2819 4750 3233 4129 \nQ 3647 3509 3647 2328 \nQ 3647 1150 3233 529 \nQ 2819 -91 2034 -91 \nQ 1250 -91 836 529 \nQ 422 1150 422 2328 \nQ 422 3509 836 4129 \nQ 1250 4750 2034 4750 \nz\n\" transform=\"scale(0.015625)\"/>\n        <path id=\"DejaVuSans-2e\" d=\"M 684 794 \nL 1344 794 \nL 1344 0 \nL 684 0 \nL 684 794 \nz\n\" transform=\"scale(0.015625)\"/>\n       </defs>\n       <use xlink:href=\"#DejaVuSans-30\"/>\n       <use xlink:href=\"#DejaVuSans-2e\" x=\"63.623047\"/>\n       <use xlink:href=\"#DejaVuSans-30\" x=\"95.410156\"/>\n      </g>\n     </g>\n    </g>\n    <g id=\"ytick_2\">\n     <g id=\"line2d_13\">\n      <path d=\"M 30.103125 119.719219 \nL 225.403125 119.719219 \n\" clip-path=\"url(#pf0542afa5f)\" style=\"fill: none; stroke: #b0b0b0; stroke-width: 0.8; stroke-linecap: square\"/>\n     </g>\n     <g id=\"line2d_14\">\n      <g>\n       <use xlink:href=\"#ma53946c5c5\" x=\"30.103125\" y=\"119.719219\" style=\"stroke: #000000; stroke-width: 0.8\"/>\n      </g>\n     </g>\n     <g id=\"text_8\">\n      <!-- 0.2 -->\n      <g transform=\"translate(7.2 123.518437)scale(0.1 -0.1)\">\n       <use xlink:href=\"#DejaVuSans-30\"/>\n       <use xlink:href=\"#DejaVuSans-2e\" x=\"63.623047\"/>\n       <use xlink:href=\"#DejaVuSans-32\" x=\"95.410156\"/>\n      </g>\n     </g>\n    </g>\n    <g id=\"ytick_3\">\n     <g id=\"line2d_15\">\n      <path d=\"M 30.103125 92.539219 \nL 225.403125 92.539219 \n\" clip-path=\"url(#pf0542afa5f)\" style=\"fill: none; stroke: #b0b0b0; stroke-width: 0.8; stroke-linecap: square\"/>\n     </g>\n     <g id=\"line2d_16\">\n      <g>\n       <use xlink:href=\"#ma53946c5c5\" x=\"30.103125\" y=\"92.539219\" style=\"stroke: #000000; stroke-width: 0.8\"/>\n      </g>\n     </g>\n     <g id=\"text_9\">\n      <!-- 0.4 -->\n      <g transform=\"translate(7.2 96.338437)scale(0.1 -0.1)\">\n       <use xlink:href=\"#DejaVuSans-30\"/>\n       <use xlink:href=\"#DejaVuSans-2e\" x=\"63.623047\"/>\n       <use xlink:href=\"#DejaVuSans-34\" x=\"95.410156\"/>\n      </g>\n     </g>\n    </g>\n    <g id=\"ytick_4\">\n     <g id=\"line2d_17\">\n      <path d=\"M 30.103125 65.359219 \nL 225.403125 65.359219 \n\" clip-path=\"url(#pf0542afa5f)\" style=\"fill: none; stroke: #b0b0b0; stroke-width: 0.8; stroke-linecap: square\"/>\n     </g>\n     <g id=\"line2d_18\">\n      <g>\n       <use xlink:href=\"#ma53946c5c5\" x=\"30.103125\" y=\"65.359219\" style=\"stroke: #000000; stroke-width: 0.8\"/>\n      </g>\n     </g>\n     <g id=\"text_10\">\n      <!-- 0.6 -->\n      <g transform=\"translate(7.2 69.158437)scale(0.1 -0.1)\">\n       <defs>\n        <path id=\"DejaVuSans-36\" d=\"M 2113 2584 \nQ 1688 2584 1439 2293 \nQ 1191 2003 1191 1497 \nQ 1191 994 1439 701 \nQ 1688 409 2113 409 \nQ 2538 409 2786 701 \nQ 3034 994 3034 1497 \nQ 3034 2003 2786 2293 \nQ 2538 2584 2113 2584 \nz\nM 3366 4563 \nL 3366 3988 \nQ 3128 4100 2886 4159 \nQ 2644 4219 2406 4219 \nQ 1781 4219 1451 3797 \nQ 1122 3375 1075 2522 \nQ 1259 2794 1537 2939 \nQ 1816 3084 2150 3084 \nQ 2853 3084 3261 2657 \nQ 3669 2231 3669 1497 \nQ 3669 778 3244 343 \nQ 2819 -91 2113 -91 \nQ 1303 -91 875 529 \nQ 447 1150 447 2328 \nQ 447 3434 972 4092 \nQ 1497 4750 2381 4750 \nQ 2619 4750 2861 4703 \nQ 3103 4656 3366 4563 \nz\n\" transform=\"scale(0.015625)\"/>\n       </defs>\n       <use xlink:href=\"#DejaVuSans-30\"/>\n       <use xlink:href=\"#DejaVuSans-2e\" x=\"63.623047\"/>\n       <use xlink:href=\"#DejaVuSans-36\" x=\"95.410156\"/>\n      </g>\n     </g>\n    </g>\n    <g id=\"ytick_5\">\n     <g id=\"line2d_19\">\n      <path d=\"M 30.103125 38.179219 \nL 225.403125 38.179219 \n\" clip-path=\"url(#pf0542afa5f)\" style=\"fill: none; stroke: #b0b0b0; stroke-width: 0.8; stroke-linecap: square\"/>\n     </g>\n     <g id=\"line2d_20\">\n      <g>\n       <use xlink:href=\"#ma53946c5c5\" x=\"30.103125\" y=\"38.179219\" style=\"stroke: #000000; stroke-width: 0.8\"/>\n      </g>\n     </g>\n     <g id=\"text_11\">\n      <!-- 0.8 -->\n      <g transform=\"translate(7.2 41.978437)scale(0.1 -0.1)\">\n       <defs>\n        <path id=\"DejaVuSans-38\" d=\"M 2034 2216 \nQ 1584 2216 1326 1975 \nQ 1069 1734 1069 1313 \nQ 1069 891 1326 650 \nQ 1584 409 2034 409 \nQ 2484 409 2743 651 \nQ 3003 894 3003 1313 \nQ 3003 1734 2745 1975 \nQ 2488 2216 2034 2216 \nz\nM 1403 2484 \nQ 997 2584 770 2862 \nQ 544 3141 544 3541 \nQ 544 4100 942 4425 \nQ 1341 4750 2034 4750 \nQ 2731 4750 3128 4425 \nQ 3525 4100 3525 3541 \nQ 3525 3141 3298 2862 \nQ 3072 2584 2669 2484 \nQ 3125 2378 3379 2068 \nQ 3634 1759 3634 1313 \nQ 3634 634 3220 271 \nQ 2806 -91 2034 -91 \nQ 1263 -91 848 271 \nQ 434 634 434 1313 \nQ 434 1759 690 2068 \nQ 947 2378 1403 2484 \nz\nM 1172 3481 \nQ 1172 3119 1398 2916 \nQ 1625 2713 2034 2713 \nQ 2441 2713 2670 2916 \nQ 2900 3119 2900 3481 \nQ 2900 3844 2670 4047 \nQ 2441 4250 2034 4250 \nQ 1625 4250 1398 4047 \nQ 1172 3844 1172 3481 \nz\n\" transform=\"scale(0.015625)\"/>\n       </defs>\n       <use xlink:href=\"#DejaVuSans-30\"/>\n       <use xlink:href=\"#DejaVuSans-2e\" x=\"63.623047\"/>\n       <use xlink:href=\"#DejaVuSans-38\" x=\"95.410156\"/>\n      </g>\n     </g>\n    </g>\n    <g id=\"ytick_6\">\n     <g id=\"line2d_21\">\n      <path d=\"M 30.103125 10.999219 \nL 225.403125 10.999219 \n\" clip-path=\"url(#pf0542afa5f)\" style=\"fill: none; stroke: #b0b0b0; stroke-width: 0.8; stroke-linecap: square\"/>\n     </g>\n     <g id=\"line2d_22\">\n      <g>\n       <use xlink:href=\"#ma53946c5c5\" x=\"30.103125\" y=\"10.999219\" style=\"stroke: #000000; stroke-width: 0.8\"/>\n      </g>\n     </g>\n     <g id=\"text_12\">\n      <!-- 1.0 -->\n      <g transform=\"translate(7.2 14.798437)scale(0.1 -0.1)\">\n       <use xlink:href=\"#DejaVuSans-31\"/>\n       <use xlink:href=\"#DejaVuSans-2e\" x=\"63.623047\"/>\n       <use xlink:href=\"#DejaVuSans-30\" x=\"95.410156\"/>\n      </g>\n     </g>\n    </g>\n   </g>\n   <g id=\"line2d_23\">\n    <path d=\"M 9.522883 -1 \nL 10.553193 1.714976 \nL 20.311549 18.724273 \nL 30.069905 30.962633 \nL 30.103125 30.998368 \nL 39.861481 91.998843 \nL 49.619837 93.842088 \nL 59.378193 95.120943 \nL 69.136549 96.398916 \nL 78.894905 97.510557 \nL 78.928125 97.515639 \nL 88.686481 110.266684 \nL 98.444837 110.151178 \nL 108.203193 110.249575 \nL 117.961549 110.380139 \nL 127.719905 110.47043 \nL 127.753125 110.474426 \nL 137.511481 118.125987 \nL 147.269837 117.770516 \nL 157.028193 117.39249 \nL 166.786549 117.174665 \nL 176.544905 117.088806 \nL 176.578125 117.09072 \nL 186.336481 122.708575 \nL 196.094837 122.377414 \nL 205.853193 122.090792 \nL 215.611549 121.938443 \nL 225.369905 121.778887 \nL 225.403125 121.778564 \n\" clip-path=\"url(#pf0542afa5f)\" style=\"fill: none; stroke: #1f77b4; stroke-width: 1.5; stroke-linecap: square\"/>\n   </g>\n   <g id=\"line2d_24\">\n    <path d=\"M -1 66.37161 \nL 0.794837 63.707907 \nL 10.553193 55.600442 \nL 20.311549 50.237181 \nL 30.069905 46.393398 \nL 30.103125 46.381538 \nL 39.861481 27.41565 \nL 49.619837 26.835996 \nL 59.378193 26.437061 \nL 69.136549 26.037222 \nL 78.894905 25.683828 \nL 78.928125 25.683486 \nL 88.686481 22.00495 \nL 98.444837 22.016697 \nL 108.203193 21.992902 \nL 117.961549 21.957738 \nL 127.719905 21.943325 \nL 127.753125 21.942254 \nL 137.511481 19.691759 \nL 147.269837 19.825942 \nL 157.028193 19.950487 \nL 166.786549 20.016374 \nL 176.544905 20.031689 \nL 176.578125 20.031454 \nL 186.336481 18.444804 \nL 196.094837 18.52432 \nL 205.853193 18.606547 \nL 215.611549 18.663473 \nL 225.369905 18.701062 \nL 225.403125 18.701118 \n\" clip-path=\"url(#pf0542afa5f)\" style=\"fill: none; stroke-dasharray: 5.55,2.4; stroke-dashoffset: 0; stroke: #bf00bf; stroke-width: 1.5\"/>\n   </g>\n   <g id=\"line2d_25\">\n    <path d=\"M 30.103125 25.930554 \nL 78.928125 20.708361 \nL 127.753125 18.771192 \nL 176.578125 17.365363 \nL 225.403125 16.260964 \n\" clip-path=\"url(#pf0542afa5f)\" style=\"fill: none; stroke-dasharray: 9.6,2.4,1.5,2.4; stroke-dashoffset: 0; stroke: #008000; stroke-width: 1.5\"/>\n   </g>\n   <g id=\"patch_3\">\n    <path d=\"M 30.103125 146.899219 \nL 30.103125 10.999219 \n\" style=\"fill: none; stroke: #000000; stroke-width: 0.8; stroke-linejoin: miter; stroke-linecap: square\"/>\n   </g>\n   <g id=\"patch_4\">\n    <path d=\"M 225.403125 146.899219 \nL 225.403125 10.999219 \n\" style=\"fill: none; stroke: #000000; stroke-width: 0.8; stroke-linejoin: miter; stroke-linecap: square\"/>\n   </g>\n   <g id=\"patch_5\">\n    <path d=\"M 30.103125 146.899219 \nL 225.403125 146.899219 \n\" style=\"fill: none; stroke: #000000; stroke-width: 0.8; stroke-linejoin: miter; stroke-linecap: square\"/>\n   </g>\n   <g id=\"patch_6\">\n    <path d=\"M 30.103125 10.999219 \nL 225.403125 10.999219 \n\" style=\"fill: none; stroke: #000000; stroke-width: 0.8; stroke-linejoin: miter; stroke-linecap: square\"/>\n   </g>\n   <g id=\"legend_1\">\n    <g id=\"patch_7\">\n     <path d=\"M 140.634375 102.466406 \nL 218.403125 102.466406 \nQ 220.403125 102.466406 220.403125 100.466406 \nL 220.403125 57.432031 \nQ 220.403125 55.432031 218.403125 55.432031 \nL 140.634375 55.432031 \nQ 138.634375 55.432031 138.634375 57.432031 \nL 138.634375 100.466406 \nQ 138.634375 102.466406 140.634375 102.466406 \nz\n\" style=\"fill: #ffffff; opacity: 0.8; stroke: #cccccc; stroke-linejoin: miter\"/>\n    </g>\n    <g id=\"line2d_26\">\n     <path d=\"M 142.634375 63.530469 \nL 152.634375 63.530469 \nL 162.634375 63.530469 \n\" style=\"fill: none; stroke: #1f77b4; stroke-width: 1.5; stroke-linecap: square\"/>\n    </g>\n    <g id=\"text_13\">\n     <!-- train loss -->\n     <g transform=\"translate(170.634375 67.030469)scale(0.1 -0.1)\">\n      <defs>\n       <path id=\"DejaVuSans-74\" d=\"M 1172 4494 \nL 1172 3500 \nL 2356 3500 \nL 2356 3053 \nL 1172 3053 \nL 1172 1153 \nQ 1172 725 1289 603 \nQ 1406 481 1766 481 \nL 2356 481 \nL 2356 0 \nL 1766 0 \nQ 1100 0 847 248 \nQ 594 497 594 1153 \nL 594 3053 \nL 172 3053 \nL 172 3500 \nL 594 3500 \nL 594 4494 \nL 1172 4494 \nz\n\" transform=\"scale(0.015625)\"/>\n       <path id=\"DejaVuSans-72\" d=\"M 2631 2963 \nQ 2534 3019 2420 3045 \nQ 2306 3072 2169 3072 \nQ 1681 3072 1420 2755 \nQ 1159 2438 1159 1844 \nL 1159 0 \nL 581 0 \nL 581 3500 \nL 1159 3500 \nL 1159 2956 \nQ 1341 3275 1631 3429 \nQ 1922 3584 2338 3584 \nQ 2397 3584 2469 3576 \nQ 2541 3569 2628 3553 \nL 2631 2963 \nz\n\" transform=\"scale(0.015625)\"/>\n       <path id=\"DejaVuSans-61\" d=\"M 2194 1759 \nQ 1497 1759 1228 1600 \nQ 959 1441 959 1056 \nQ 959 750 1161 570 \nQ 1363 391 1709 391 \nQ 2188 391 2477 730 \nQ 2766 1069 2766 1631 \nL 2766 1759 \nL 2194 1759 \nz\nM 3341 1997 \nL 3341 0 \nL 2766 0 \nL 2766 531 \nQ 2569 213 2275 61 \nQ 1981 -91 1556 -91 \nQ 1019 -91 701 211 \nQ 384 513 384 1019 \nQ 384 1609 779 1909 \nQ 1175 2209 1959 2209 \nL 2766 2209 \nL 2766 2266 \nQ 2766 2663 2505 2880 \nQ 2244 3097 1772 3097 \nQ 1472 3097 1187 3025 \nQ 903 2953 641 2809 \nL 641 3341 \nQ 956 3463 1253 3523 \nQ 1550 3584 1831 3584 \nQ 2591 3584 2966 3190 \nQ 3341 2797 3341 1997 \nz\n\" transform=\"scale(0.015625)\"/>\n       <path id=\"DejaVuSans-69\" d=\"M 603 3500 \nL 1178 3500 \nL 1178 0 \nL 603 0 \nL 603 3500 \nz\nM 603 4863 \nL 1178 4863 \nL 1178 4134 \nL 603 4134 \nL 603 4863 \nz\n\" transform=\"scale(0.015625)\"/>\n       <path id=\"DejaVuSans-6e\" d=\"M 3513 2113 \nL 3513 0 \nL 2938 0 \nL 2938 2094 \nQ 2938 2591 2744 2837 \nQ 2550 3084 2163 3084 \nQ 1697 3084 1428 2787 \nQ 1159 2491 1159 1978 \nL 1159 0 \nL 581 0 \nL 581 3500 \nL 1159 3500 \nL 1159 2956 \nQ 1366 3272 1645 3428 \nQ 1925 3584 2291 3584 \nQ 2894 3584 3203 3211 \nQ 3513 2838 3513 2113 \nz\n\" transform=\"scale(0.015625)\"/>\n       <path id=\"DejaVuSans-20\" transform=\"scale(0.015625)\"/>\n       <path id=\"DejaVuSans-6c\" d=\"M 603 4863 \nL 1178 4863 \nL 1178 0 \nL 603 0 \nL 603 4863 \nz\n\" transform=\"scale(0.015625)\"/>\n       <path id=\"DejaVuSans-73\" d=\"M 2834 3397 \nL 2834 2853 \nQ 2591 2978 2328 3040 \nQ 2066 3103 1784 3103 \nQ 1356 3103 1142 2972 \nQ 928 2841 928 2578 \nQ 928 2378 1081 2264 \nQ 1234 2150 1697 2047 \nL 1894 2003 \nQ 2506 1872 2764 1633 \nQ 3022 1394 3022 966 \nQ 3022 478 2636 193 \nQ 2250 -91 1575 -91 \nQ 1294 -91 989 -36 \nQ 684 19 347 128 \nL 347 722 \nQ 666 556 975 473 \nQ 1284 391 1588 391 \nQ 1994 391 2212 530 \nQ 2431 669 2431 922 \nQ 2431 1156 2273 1281 \nQ 2116 1406 1581 1522 \nL 1381 1569 \nQ 847 1681 609 1914 \nQ 372 2147 372 2553 \nQ 372 3047 722 3315 \nQ 1072 3584 1716 3584 \nQ 2034 3584 2315 3537 \nQ 2597 3491 2834 3397 \nz\n\" transform=\"scale(0.015625)\"/>\n      </defs>\n      <use xlink:href=\"#DejaVuSans-74\"/>\n      <use xlink:href=\"#DejaVuSans-72\" x=\"39.208984\"/>\n      <use xlink:href=\"#DejaVuSans-61\" x=\"80.322266\"/>\n      <use xlink:href=\"#DejaVuSans-69\" x=\"141.601562\"/>\n      <use xlink:href=\"#DejaVuSans-6e\" x=\"169.384766\"/>\n      <use xlink:href=\"#DejaVuSans-20\" x=\"232.763672\"/>\n      <use xlink:href=\"#DejaVuSans-6c\" x=\"264.550781\"/>\n      <use xlink:href=\"#DejaVuSans-6f\" x=\"292.333984\"/>\n      <use xlink:href=\"#DejaVuSans-73\" x=\"353.515625\"/>\n      <use xlink:href=\"#DejaVuSans-73\" x=\"405.615234\"/>\n     </g>\n    </g>\n    <g id=\"line2d_27\">\n     <path d=\"M 142.634375 78.208594 \nL 152.634375 78.208594 \nL 162.634375 78.208594 \n\" style=\"fill: none; stroke-dasharray: 5.55,2.4; stroke-dashoffset: 0; stroke: #bf00bf; stroke-width: 1.5\"/>\n    </g>\n    <g id=\"text_14\">\n     <!-- train acc -->\n     <g transform=\"translate(170.634375 81.708594)scale(0.1 -0.1)\">\n      <use xlink:href=\"#DejaVuSans-74\"/>\n      <use xlink:href=\"#DejaVuSans-72\" x=\"39.208984\"/>\n      <use xlink:href=\"#DejaVuSans-61\" x=\"80.322266\"/>\n      <use xlink:href=\"#DejaVuSans-69\" x=\"141.601562\"/>\n      <use xlink:href=\"#DejaVuSans-6e\" x=\"169.384766\"/>\n      <use xlink:href=\"#DejaVuSans-20\" x=\"232.763672\"/>\n      <use xlink:href=\"#DejaVuSans-61\" x=\"264.550781\"/>\n      <use xlink:href=\"#DejaVuSans-63\" x=\"325.830078\"/>\n      <use xlink:href=\"#DejaVuSans-63\" x=\"380.810547\"/>\n     </g>\n    </g>\n    <g id=\"line2d_28\">\n     <path d=\"M 142.634375 92.886719 \nL 152.634375 92.886719 \nL 162.634375 92.886719 \n\" style=\"fill: none; stroke-dasharray: 9.6,2.4,1.5,2.4; stroke-dashoffset: 0; stroke: #008000; stroke-width: 1.5\"/>\n    </g>\n    <g id=\"text_15\">\n     <!-- test acc -->\n     <g transform=\"translate(170.634375 96.386719)scale(0.1 -0.1)\">\n      <use xlink:href=\"#DejaVuSans-74\"/>\n      <use xlink:href=\"#DejaVuSans-65\" x=\"39.208984\"/>\n      <use xlink:href=\"#DejaVuSans-73\" x=\"100.732422\"/>\n      <use xlink:href=\"#DejaVuSans-74\" x=\"152.832031\"/>\n      <use xlink:href=\"#DejaVuSans-20\" x=\"192.041016\"/>\n      <use xlink:href=\"#DejaVuSans-61\" x=\"223.828125\"/>\n      <use xlink:href=\"#DejaVuSans-63\" x=\"285.107422\"/>\n      <use xlink:href=\"#DejaVuSans-63\" x=\"340.087891\"/>\n     </g>\n    </g>\n   </g>\n  </g>\n </g>\n <defs>\n  <clipPath id=\"pf0542afa5f\">\n   <rect x=\"30.103125\" y=\"10.999219\" width=\"195.3\" height=\"135.9\"/>\n  </clipPath>\n </defs>\n</svg>\n"
          },
          "metadata": {
            "needs_background": "light"
          }
        }
      ]
    },
    {
      "cell_type": "markdown",
      "source": [
        "# 加载测试数据"
      ],
      "metadata": {
        "id": "anHkrUBBgZRd"
      }
    },
    {
      "cell_type": "code",
      "source": [
        "test_root = '/content/THUCNews/test.txt'\n",
        "num_steps, test_batch = 13, 256\n",
        "\n",
        "test_set = THUCNews(dataset=read_data(test_root, is_test=True),\n",
        "            num_steps=num_steps, test=True)\n",
        "test_iter = DataLoader(test_set, batch_size=test_batch,\n",
        "              shuffle=False, num_workers=4)"
      ],
      "metadata": {
        "id": "Q-SfRDUegYz1",
        "colab": {
          "base_uri": "https://localhost:8080/"
        },
        "outputId": "be1e21ed-ab77-421b-fa66-30c9e273694e"
      },
      "execution_count": null,
      "outputs": [
        {
          "output_type": "stream",
          "name": "stderr",
          "text": [
            "/usr/local/lib/python3.8/dist-packages/torch/utils/data/dataloader.py:554: UserWarning: This DataLoader will create 4 worker processes in total. Our suggested max number of worker in current system is 2, which is smaller than what this DataLoader is going to create. Please be aware that excessive worker creation might get DataLoader running slow or even freeze, lower the worker number to avoid potential slowness/freeze if necessary.\n",
            "  warnings.warn(_create_warning_msg(\n"
          ]
        }
      ]
    },
    {
      "cell_type": "markdown",
      "source": [
        "# 加载模型参数，输出预测"
      ],
      "metadata": {
        "id": "hHWTnDy9gdz8"
      }
    },
    {
      "cell_type": "code",
      "source": [
        "embed_size, kernel_size, nums_channel, num_class = 100, 3, 100, len(label_list)\n",
        "devices = d2l.try_all_gpus()\n",
        "model = TextCNN(len(vocab), embed_size, kernel_size, nums_channel, num_class)\n",
        "\n",
        "\n",
        "params = torch.load('/content/THUCNews/model_weights.txt')\n",
        "model.load_state_dict(params)\n",
        "\n",
        "\n",
        "label_map_reverse = {value:key for key, value in label_map.items()}\n",
        "f = open('/content/THUCNews/result.txt', 'w+', encoding='utf-8-sig')\n",
        "\n",
        "\n",
        "def predict_and_write(model, test_iter):\n",
        "    model.eval()\n",
        "    for x in test_iter:\n",
        "        pred = model(x)\n",
        "        _, pred = torch.max(pred,1)\n",
        "        pred = pred.numpy()\n",
        "        for y_hat in pred:\n",
        "            label = label_map_reverse[y_hat]\n",
        "            fw = open('/content/THUCNews/result.txt', 'a+')\n",
        "            fw.write(label)\n",
        "            fw.write('\\n')\n",
        "\n",
        "predict_and_write(model, test_iter)\n",
        "f.close()"
      ],
      "metadata": {
        "id": "NgbT05NXGakA",
        "colab": {
          "base_uri": "https://localhost:8080/"
        },
        "outputId": "78ccb6fa-5ac8-477c-f4f0-0c9138fc15cf"
      },
      "execution_count": null,
      "outputs": [
        {
          "output_type": "stream",
          "name": "stderr",
          "text": [
            "/usr/local/lib/python3.8/dist-packages/torch/utils/data/dataloader.py:554: UserWarning: This DataLoader will create 4 worker processes in total. Our suggested max number of worker in current system is 2, which is smaller than what this DataLoader is going to create. Please be aware that excessive worker creation might get DataLoader running slow or even freeze, lower the worker number to avoid potential slowness/freeze if necessary.\n",
            "  warnings.warn(_create_warning_msg(\n"
          ]
        }
      ]
    }
  ]
}